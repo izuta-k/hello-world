{
  "metadata": {
    "kernelspec": {
      "name": "python",
      "display_name": "Python (Pyodide)",
      "language": "python"
    },
    "language_info": {
      "codemirror_mode": {
        "name": "python",
        "version": 3
      },
      "file_extension": ".py",
      "mimetype": "text/x-python",
      "name": "python",
      "nbconvert_exporter": "python",
      "pygments_lexer": "ipython3",
      "version": "3.8"
    }
  },
  "nbformat_minor": 5,
  "nbformat": 4,
  "cells": [
    {
      "id": "630612d2-af28-4080-a2d9-e990aecc465e",
      "cell_type": "markdown",
      "source": "# Data Science Tools and Ecosystem",
      "metadata": {}
    },
    {
      "id": "fee47a15-033b-40e4-a321-2f8c351f4aef",
      "cell_type": "markdown",
      "source": "In this notebook, Data Science Tools and Ecosystem are summarized.",
      "metadata": {}
    },
    {
      "id": "55603b45-b749-4f89-b0e1-48767ac20921",
      "cell_type": "markdown",
      "source": "**Objectives**:\n- Listing popular languages for DS\n- Listing popular tools used in DS\n- Evaluations of arithmetic expressions in python\n- Listing popular libraries used by data scientists",
      "metadata": {}
    },
    {
      "id": "0adb43cc-f366-4580-a6e9-1c98a2e46462",
      "cell_type": "markdown",
      "source": "Some of the popular languages that Data Scientists use are:\n1. Python\n2. R\n3. Java",
      "metadata": {}
    },
    {
      "id": "b2fe1491-cc34-441e-8555-0c17b6bfef15",
      "cell_type": "markdown",
      "source": "Some of the commonly used libraries used by Data Scientists include:\n1. ggplot2\n2. pandas\n3. numpy\n4. data.table\n5. dplyr",
      "metadata": {}
    },
    {
      "id": "5d4fdfaf-330d-4767-8a02-aef04199de13",
      "cell_type": "markdown",
      "source": "| Data Science Tool |\n|---|\n|JupyterLab|\n|VSCode|\n|Rstudio|\n",
      "metadata": {}
    },
    {
      "id": "aa98bff0-5add-458c-815e-956d96583eb4",
      "cell_type": "markdown",
      "source": "### Below are a few examples of evaluating arithmetic expressions in Python.",
      "metadata": {}
    },
    {
      "id": "6b0339eb-b7eb-452a-8ba4-66274ac260ec",
      "cell_type": "code",
      "source": "# This a simple arithmetic expression to mutiply then add integers\n(3*4)+5",
      "metadata": {
        "trusted": true
      },
      "outputs": [
        {
          "execution_count": 1,
          "output_type": "execute_result",
          "data": {
            "text/plain": "17"
          },
          "metadata": {}
        }
      ],
      "execution_count": 1
    },
    {
      "id": "3490311c-266a-4013-a068-0804d66d4557",
      "cell_type": "code",
      "source": "# This will convert 200 minutes to hours by dividing by 60\n200 / 60",
      "metadata": {
        "trusted": true
      },
      "outputs": [
        {
          "execution_count": 2,
          "output_type": "execute_result",
          "data": {
            "text/plain": "3.3333333333333335"
          },
          "metadata": {}
        }
      ],
      "execution_count": 2
    },
    {
      "id": "b07e8223-d49f-4b80-b3cf-78579b4058c1",
      "cell_type": "markdown",
      "source": "## Author\nBoran",
      "metadata": {}
    },
    {
      "id": "7a98a418-cc78-400d-9038-204feab5a86b",
      "cell_type": "code",
      "source": "",
      "metadata": {
        "trusted": true
      },
      "outputs": [],
      "execution_count": null
    }
  ]
}